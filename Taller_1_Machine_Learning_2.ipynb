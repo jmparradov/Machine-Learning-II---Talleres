{
  "nbformat": 4,
  "nbformat_minor": 0,
  "metadata": {
    "colab": {
      "provenance": [],
      "authorship_tag": "ABX9TyPCO1vNMEvLxL1j8GWEZoMU",
      "include_colab_link": true
    },
    "kernelspec": {
      "name": "python3",
      "display_name": "Python 3"
    },
    "language_info": {
      "name": "python"
    }
  },
  "cells": [
    {
      "cell_type": "markdown",
      "metadata": {
        "id": "view-in-github",
        "colab_type": "text"
      },
      "source": [
        "<a href=\"https://colab.research.google.com/github/jmparradov/Machine-Learning-II---Talleres/blob/main/Taller_1_Machine_Learning_2.ipynb\" target=\"_parent\"><img src=\"https://colab.research.google.com/assets/colab-badge.svg\" alt=\"Open In Colab\"/></a>"
      ]
    },
    {
      "cell_type": "markdown",
      "source": [
        "# Machine Learning 2 - Assignment \\#1 <br> Data Science Specialization University of Antioquia\n",
        "\n",
        "Professor: Hernán Felipe García Arias, PhD\n",
        "\n",
        "March 5, 2025\n",
        "\n",
        "## Overview\n",
        "\n",
        "In this assignment, you will explore clustering techniques by implementing the Gaussian Mixture Model (GMM) from scratch and applying it to two datasets. You will also implement the Elbow and Silhouette methods in combination with K-Means or GMM to evaluate the optimal number of clusters based on several performance metrics.\n",
        "\n",
        "This assignment is divided into two tasks:\n",
        "\n",
        "1. Implementing the Gaussian Mixture Model and evaluating clustering performance using the Rand Index.\n",
        "2. Evaluating clustering quality and the optimal number of clusters using the Elbow method, Silhouette analysis, and clustering metrics.\n",
        "\n",
        "## Assignment 1: Implement Gaussian Mixture Model (GMM)\n",
        "\n",
        "In this task, you are required to implement the GMM algorithm from scratch and apply it to the FIFA 23 Players Dataset and the EastWestAirlines Dataset for clustering. You should evaluate the performance of your clustering results using both qualitative and quantitative measures.\n",
        "\n",
        "## Datasets\n",
        "\n",
        "- FIFA 23 Players Dataset: This dataset contains detailed attributes of professional soccer players. The objective is to cluster players based on their skills and playing styles. Relevant features for clustering include:\n",
        "- Age\n",
        "- Overall rating (general skill level)\n",
        "- Potential (maximum projected skill level)\n",
        "- Value (market price in €)\n",
        "- Wage (weekly salary)\n",
        "- Shooting, Passing, Dribbling (technical abilities)\n",
        "- Defending, Physicality (defensive capabilities)\n",
        "\n",
        "You can download the dataset from Kaggle: FIFA 23 Dataset - Kaggle.\n",
        "\n",
        "- EastWestAirlines Dataset: This dataset contains information about airline customers and their behaviors. You should preprocess the dataset as necessary before applying the clustering algorithm. (Dataset available here.)\n",
        "\n",
        "\n",
        "## Tasks\n",
        "\n",
        "1. Implement the Gaussian Mixture Model algorithm from scratch. Do not use libraries like scikit-learn's GMM implementation for this part.\n",
        "2. Fit the GMM to both datasets (FIFA 23 Players and EastWestAirlines) and perform clustering.\n",
        "3. Evaluate your clustering results using the following methods:\n",
        "\n",
        "- Rand Index: Calculate the Rand Index to compare your clustering results against meaningful labels (e.g., player positions). Read more about the Rand Index here: Rand Index - Wikipedia.\n",
        "- Qualitative Evaluation: For both datasets, visualize and describe the resulting clusters (e.g., scatter plots, pair plots, or other visualizations that highlight the formed groups). For visualizations in Python, you may refer to this guide: Seaborn Visualization Library.\n",
        "\n",
        "\n",
        "## Hints and Useful Links\n",
        "\n",
        "- For a detailed explanation on how Gaussian Mixture Models work and how to implement them, see this tutorial: Gaussian Mixture Model - scikit-learn documentation.\n",
        "- To understand the mathematical background and principles behind GMM, this reference may help: Mixture Model - Wikipedia.\n",
        "\n"
      ],
      "metadata": {
        "id": "h8N3RJeDLot9"
      }
    },
    {
      "cell_type": "code",
      "source": [],
      "metadata": {
        "id": "y2PAm7KgPuJh"
      },
      "execution_count": null,
      "outputs": []
    },
    {
      "cell_type": "markdown",
      "source": [
        "\n",
        "## Assignment 2: Evaluating Clustering with Elbow and Silhouette Methods\n",
        "\n",
        "In this task, you will evaluate the performance of clustering algorithms (K-Means or GMM) using the Elbow method and Silhouette analysis. You will also investigate the impact of clustering on four relevant metrics.\n",
        "\n",
        "## Tasks\n",
        "\n",
        "1. Implement the Elbow method and Silhouette analysis to determine the optimal number of clusters for both the FIFA 23 and EastWestAirlines datasets.\n",
        "2. Apply both K-Means and GMM clustering algorithms to each dataset and compare their performance in determining the optimal number of clusters.\n",
        "3. Evaluate the clustering quality using the following four metrics:\n",
        "\n",
        "- Silhouette Score: Measures how similar a point is to its own cluster compared to other clusters. Learn more here: Silhouette Score - scikit-learn documentation.\n",
        "- Inertia: Sum of squared distances of points to their closest cluster center. Explanation can be found here: Inertia and Clustering Evaluation.\n",
        "- Davies-Bouldin Index: Measures the average similarity ratio of each cluster with its most similar cluster. Learn about it here: Davies-Bouldin Index -scikit-learn documentation.\n",
        "\n",
        "4. Discuss how the choice of the number of clusters impacts each of the four metrics and provide a recommendation for the optimal number of clusters.\n",
        "\n",
        "## Deliverables\n",
        "\n",
        "- Teams must submit an IPYNB notebook (Jupyter notebook) containing the complete solution to the task. This notebook should include:\n",
        "- An implementation of the Elbow method and Silhouette analysis for both datasets.\n",
        "- Clustering results using both K-Means and GMM for the FIFA 23 Players and EastWestAirlines datasets.\n",
        "- An evaluation of the clustering performance based on the four selected metrics.\n",
        "- A summary of results and analysis, including visualizations, interpretation of the results, and a discussion on how the choice of cluster number impacts clustering quality.\n",
        "\n",
        "\n",
        "## Grading Rubric\n",
        "\n",
        "- Correctness of Implementation (40\\%): Accurate and complete implementation of the Gaussian Mixture Model and clustering evaluation methods.\n",
        "- Evaluation and Analysis (30\\%): Quality and depth of the evaluation, including correct use of Rand Index, Silhouette, and other metrics.\n",
        "- Visualization and Reporting (20\\%): Clear and informative visualizations, along with a well-structured report explaining your approach and findings.\n",
        "- Code Quality (10\\%): Readability, documentation, and organization of your code.\n",
        "\n",
        "\n",
        "## Submission\n",
        "\n",
        "Please submit your Jupyter notebooks in IPYNB format, including the complete code, analysis, and documentation in Markdown cells. The deadline for this assignment is 09/03/2025.\n",
        "\n"
      ],
      "metadata": {
        "id": "WalVIu5xPqyQ"
      }
    }
  ]
}