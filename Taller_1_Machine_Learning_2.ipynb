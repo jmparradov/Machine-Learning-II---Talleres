{
  "nbformat": 4,
  "nbformat_minor": 0,
  "metadata": {
    "colab": {
      "provenance": [],
      "authorship_tag": "ABX9TyM9vDwZiUUe0k/tzpRR+rql",
      "include_colab_link": true
    },
    "kernelspec": {
      "name": "python3",
      "display_name": "Python 3"
    },
    "language_info": {
      "name": "python"
    }
  },
  "cells": [
    {
      "cell_type": "markdown",
      "metadata": {
        "id": "view-in-github",
        "colab_type": "text"
      },
      "source": [
        "<a href=\"https://colab.research.google.com/github/jmparradov/Machine-Learning-II---Talleres/blob/main/Taller_1_Machine_Learning_2.ipynb\" target=\"_parent\"><img src=\"https://colab.research.google.com/assets/colab-badge.svg\" alt=\"Open In Colab\"/></a>"
      ]
    },
    {
      "cell_type": "markdown",
      "source": [
        "# Machine Learning 2 - Assignment \\#1 <br> Data Science Specialization University of Antioquia\n",
        "\n",
        "Professor: Hernán Felipe García Arias, PhD\n",
        "\n",
        "March 5, 2025\n",
        "\n",
        "## Overview\n",
        "\n",
        "In this assignment, you will explore clustering techniques by implementing the Gaussian Mixture Model (GMM) from scratch and applying it to two datasets. You will also implement the Elbow and Silhouette methods in combination with K-Means or GMM to evaluate the optimal number of clusters based on several performance metrics.\n",
        "\n",
        "This assignment is divided into two tasks:\n",
        "\n",
        "1. Implementing the Gaussian Mixture Model and evaluating clustering performance using the Rand Index.\n",
        "2. Evaluating clustering quality and the optimal number of clusters using the Elbow method, Silhouette analysis, and clustering metrics.\n",
        "\n",
        "## Assignment 1: Implement Gaussian Mixture Model (GMM)\n",
        "\n",
        "In this task, you are required to implement the GMM algorithm from scratch and apply it to the FIFA 23 Players Dataset and the EastWestAirlines Dataset for clustering. You should evaluate the performance of your clustering results using both qualitative and quantitative measures.\n",
        "\n",
        "## Datasets\n",
        "\n",
        "- FIFA 23 Players Dataset: This dataset contains detailed attributes of professional soccer players. The objective is to cluster players based on their skills and playing styles. Relevant features for clustering include:\n",
        "- Age\n",
        "- Overall rating (general skill level)\n",
        "- Potential (maximum projected skill level)\n",
        "- Value (market price in €)\n",
        "- Wage (weekly salary)\n",
        "- Shooting, Passing, Dribbling (technical abilities)\n",
        "- Defending, Physicality (defensive capabilities)\n",
        "\n",
        "You can download the dataset from Kaggle: FIFA 23 Dataset - Kaggle.\n",
        "\n",
        "- EastWestAirlines Dataset: This dataset contains information about airline customers and their behaviors. You should preprocess the dataset as necessary before applying the clustering algorithm. (Dataset available here.)\n",
        "\n",
        "\n",
        "## Tasks\n",
        "\n",
        "1. Implement the Gaussian Mixture Model algorithm from scratch. Do not use libraries like scikit-learn's GMM implementation for this part.\n",
        "2. Fit the GMM to both datasets (FIFA 23 Players and EastWestAirlines) and perform clustering.\n",
        "3. Evaluate your clustering results using the following methods:\n",
        "\n",
        "- Rand Index: Calculate the Rand Index to compare your clustering results against meaningful labels (e.g., player positions). Read more about the Rand Index here: Rand Index - Wikipedia.\n",
        "- Qualitative Evaluation: For both datasets, visualize and describe the resulting clusters (e.g., scatter plots, pair plots, or other visualizations that highlight the formed groups). For visualizations in Python, you may refer to this guide: Seaborn Visualization Library.\n",
        "\n",
        "\n",
        "## Hints and Useful Links\n",
        "\n",
        "- For a detailed explanation on how Gaussian Mixture Models work and how to implement them, see this tutorial: Gaussian Mixture Model - scikit-learn documentation.\n",
        "- To understand the mathematical background and principles behind GMM, this reference may help: Mixture Model - Wikipedia.\n",
        "\n"
      ],
      "metadata": {
        "id": "h8N3RJeDLot9"
      }
    },
    {
      "cell_type": "code",
      "source": [
        "import pandas as pd\n",
        "\n",
        "csv_url = 'https://raw.githubusercontent.com/jmparradov/Machine-Learning-II---Talleres/refs/heads/main/Data/FIFA23_official_data.csv'\n",
        "\n",
        "try:\n",
        "    df = pd.read_csv(csv_url)\n",
        "    print(\"Data imported successfully!\")\n",
        "    # Now you can work with the DataFrame 'df'\n",
        "    # For example, to display the first 5 rows:\n",
        "    print(df.head())\n",
        "\n",
        "except Exception as e:\n",
        "    print(f\"An error occurred: {e}\")\n"
      ],
      "metadata": {
        "id": "y2PAm7KgPuJh",
        "outputId": "5b15f5da-9210-4124-c362-827aaf94b107",
        "colab": {
          "base_uri": "https://localhost:8080/"
        }
      },
      "execution_count": 1,
      "outputs": [
        {
          "output_type": "stream",
          "name": "stdout",
          "text": [
            "Data imported successfully!\n",
            "       ID             Name  Age  \\\n",
            "0  209658      L. Goretzka   27   \n",
            "1  212198  Bruno Fernandes   27   \n",
            "2  224334         M. Acuña   30   \n",
            "3  192985     K. De Bruyne   31   \n",
            "4  224232       N. Barella   25   \n",
            "\n",
            "                                              Photo Nationality  \\\n",
            "0  https://cdn.sofifa.net/players/209/658/23_60.png     Germany   \n",
            "1  https://cdn.sofifa.net/players/212/198/23_60.png    Portugal   \n",
            "2  https://cdn.sofifa.net/players/224/334/23_60.png   Argentina   \n",
            "3  https://cdn.sofifa.net/players/192/985/23_60.png     Belgium   \n",
            "4  https://cdn.sofifa.net/players/224/232/23_60.png       Italy   \n",
            "\n",
            "                                  Flag  Overall  Potential               Club  \\\n",
            "0  https://cdn.sofifa.net/flags/de.png       87         88  FC Bayern München   \n",
            "1  https://cdn.sofifa.net/flags/pt.png       86         87  Manchester United   \n",
            "2  https://cdn.sofifa.net/flags/ar.png       85         85         Sevilla FC   \n",
            "3  https://cdn.sofifa.net/flags/be.png       91         91    Manchester City   \n",
            "4  https://cdn.sofifa.net/flags/it.png       86         89              Inter   \n",
            "\n",
            "                                 Club Logo  ... Real Face  \\\n",
            "0   https://cdn.sofifa.net/teams/21/30.png  ...       Yes   \n",
            "1   https://cdn.sofifa.net/teams/11/30.png  ...       Yes   \n",
            "2  https://cdn.sofifa.net/teams/481/30.png  ...        No   \n",
            "3   https://cdn.sofifa.net/teams/10/30.png  ...       Yes   \n",
            "4   https://cdn.sofifa.net/teams/44/30.png  ...       Yes   \n",
            "\n",
            "                      Position        Joined Loaned From  \\\n",
            "0  <span class=\"pos pos28\">SUB   Jul 1, 2018         NaN   \n",
            "1  <span class=\"pos pos15\">LCM  Jan 30, 2020         NaN   \n",
            "2    <span class=\"pos pos7\">LB  Sep 14, 2020         NaN   \n",
            "3  <span class=\"pos pos13\">RCM  Aug 30, 2015         NaN   \n",
            "4  <span class=\"pos pos13\">RCM   Sep 1, 2020         NaN   \n",
            "\n",
            "   Contract Valid Until  Height  Weight Release Clause Kit Number  \\\n",
            "0                  2026   189cm    82kg          €157M        8.0   \n",
            "1                  2026   179cm    69kg          €155M        8.0   \n",
            "2                  2024   172cm    69kg         €97.7M       19.0   \n",
            "3                  2025   181cm    70kg        €198.9M       17.0   \n",
            "4                  2026   172cm    68kg        €154.4M       23.0   \n",
            "\n",
            "  Best Overall Rating  \n",
            "0                 NaN  \n",
            "1                 NaN  \n",
            "2                 NaN  \n",
            "3                 NaN  \n",
            "4                 NaN  \n",
            "\n",
            "[5 rows x 29 columns]\n"
          ]
        }
      ]
    },
    {
      "cell_type": "markdown",
      "source": [
        "\n",
        "## Assignment 2: Evaluating Clustering with Elbow and Silhouette Methods\n",
        "\n",
        "In this task, you will evaluate the performance of clustering algorithms (K-Means or GMM) using the Elbow method and Silhouette analysis. You will also investigate the impact of clustering on four relevant metrics.\n",
        "\n",
        "## Tasks\n",
        "\n",
        "1. Implement the Elbow method and Silhouette analysis to determine the optimal number of clusters for both the FIFA 23 and EastWestAirlines datasets.\n",
        "2. Apply both K-Means and GMM clustering algorithms to each dataset and compare their performance in determining the optimal number of clusters.\n",
        "3. Evaluate the clustering quality using the following four metrics:\n",
        "\n",
        "- Silhouette Score: Measures how similar a point is to its own cluster compared to other clusters. Learn more here: Silhouette Score - scikit-learn documentation.\n",
        "- Inertia: Sum of squared distances of points to their closest cluster center. Explanation can be found here: Inertia and Clustering Evaluation.\n",
        "- Davies-Bouldin Index: Measures the average similarity ratio of each cluster with its most similar cluster. Learn about it here: Davies-Bouldin Index -scikit-learn documentation.\n",
        "\n",
        "4. Discuss how the choice of the number of clusters impacts each of the four metrics and provide a recommendation for the optimal number of clusters.\n",
        "\n",
        "## Deliverables\n",
        "\n",
        "- Teams must submit an IPYNB notebook (Jupyter notebook) containing the complete solution to the task. This notebook should include:\n",
        "- An implementation of the Elbow method and Silhouette analysis for both datasets.\n",
        "- Clustering results using both K-Means and GMM for the FIFA 23 Players and EastWestAirlines datasets.\n",
        "- An evaluation of the clustering performance based on the four selected metrics.\n",
        "- A summary of results and analysis, including visualizations, interpretation of the results, and a discussion on how the choice of cluster number impacts clustering quality.\n",
        "\n",
        "\n",
        "## Grading Rubric\n",
        "\n",
        "- Correctness of Implementation (40\\%): Accurate and complete implementation of the Gaussian Mixture Model and clustering evaluation methods.\n",
        "- Evaluation and Analysis (30\\%): Quality and depth of the evaluation, including correct use of Rand Index, Silhouette, and other metrics.\n",
        "- Visualization and Reporting (20\\%): Clear and informative visualizations, along with a well-structured report explaining your approach and findings.\n",
        "- Code Quality (10\\%): Readability, documentation, and organization of your code.\n",
        "\n",
        "\n",
        "## Submission\n",
        "\n",
        "Please submit your Jupyter notebooks in IPYNB format, including the complete code, analysis, and documentation in Markdown cells. The deadline for this assignment is 09/03/2025.\n",
        "\n"
      ],
      "metadata": {
        "id": "WalVIu5xPqyQ"
      }
    }
  ]
}